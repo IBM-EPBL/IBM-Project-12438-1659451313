{
 "cells": [
  {
   "cell_type": "code",
   "execution_count": 1,
   "id": "03da097e",
   "metadata": {},
   "outputs": [],
   "source": [
    "from keras.preprocessing.image import ImageDataGenerator"
   ]
  },
  {
   "cell_type": "code",
   "execution_count": 2,
   "id": "9a4049c9",
   "metadata": {},
   "outputs": [],
   "source": [
    "train_datagen = ImageDataGenerator (rescale = 1./255, shear_range= 0.2,zoom_range= 0.2, horizontal_flip = True)"
   ]
  },
  {
   "cell_type": "code",
   "execution_count": 3,
   "id": "be024186",
   "metadata": {},
   "outputs": [],
   "source": [
    "test_datagen =ImageDataGenerator (rescale = 1./255)"
   ]
  },
  {
   "cell_type": "code",
   "execution_count": 4,
   "id": "86685d25",
   "metadata": {},
   "outputs": [
    {
     "name": "stdout",
     "output_type": "stream",
     "text": [
      "Found 15341 images belonging to 6 classes.\n",
      "Found 6825 images belonging to 6 classes.\n"
     ]
    }
   ],
   "source": [
    "x_train = train_datagen.flow_from_directory(r'C:\\Users\\PC\\Desktop\\IBM\\data\\train',target_size = (64,64), batch_size = 32, class_mode = 'categorical')\n",
    "x_test = test_datagen.flow_from_directory(r'C:\\Users\\PC\\Desktop\\IBM\\data\\test',target_size = (64,64), batch_size = 32, class_mode = 'categorical')"
   ]
  },
  {
   "cell_type": "code",
   "execution_count": 5,
   "id": "b4a0f8ba",
   "metadata": {},
   "outputs": [],
   "source": [
    "import numpy as np \n",
    "import tensorflow\n",
    "from tensorflow.keras.models import Sequential\n",
    "from tensorflow.keras import layers\n",
    "from tensorflow.keras.layers import Dense,Flatten\n",
    "from tensorflow.keras.layers import Conv2D,MaxPooling2D"
   ]
  },
  {
   "cell_type": "code",
   "execution_count": 6,
   "id": "e68b47de",
   "metadata": {},
   "outputs": [],
   "source": [
    "model=Sequential()"
   ]
  },
  {
   "cell_type": "code",
   "execution_count": 7,
   "id": "c11ccfa3",
   "metadata": {},
   "outputs": [],
   "source": [
    "model.add(Conv2D(32,(3,3),input_shape = (64,64,3),activation = 'relu'))"
   ]
  },
  {
   "cell_type": "code",
   "execution_count": 8,
   "id": "ee969cc8",
   "metadata": {},
   "outputs": [],
   "source": [
    "model.add(MaxPooling2D(pool_size = (2,2)))"
   ]
  },
  {
   "cell_type": "code",
   "execution_count": 9,
   "id": "8b15e66b",
   "metadata": {},
   "outputs": [],
   "source": [
    "model.add(Conv2D(32,(3,3),activation = 'relu'))"
   ]
  },
  {
   "cell_type": "code",
   "execution_count": 10,
   "id": "7c9b603a",
   "metadata": {},
   "outputs": [],
   "source": [
    "model.add(MaxPooling2D(pool_size = (2,2)))\n"
   ]
  },
  {
   "cell_type": "code",
   "execution_count": 11,
   "id": "ba8cd79a",
   "metadata": {},
   "outputs": [],
   "source": [
    "model.add(Flatten())"
   ]
  },
  {
   "cell_type": "code",
   "execution_count": 12,
   "id": "0db88fe2",
   "metadata": {},
   "outputs": [],
   "source": [
    "model.add(Dense(32))\n",
    "model.add(Dense(6,activation='softmax'))"
   ]
  },
  {
   "cell_type": "code",
   "execution_count": 13,
   "id": "8d17ecdb",
   "metadata": {},
   "outputs": [
    {
     "name": "stdout",
     "output_type": "stream",
     "text": [
      "Model: \"sequential\"\n",
      "_________________________________________________________________\n",
      " Layer (type)                Output Shape              Param #   \n",
      "=================================================================\n",
      " conv2d (Conv2D)             (None, 62, 62, 32)        896       \n",
      "                                                                 \n",
      " max_pooling2d (MaxPooling2D  (None, 31, 31, 32)       0         \n",
      " )                                                               \n",
      "                                                                 \n",
      " conv2d_1 (Conv2D)           (None, 29, 29, 32)        9248      \n",
      "                                                                 \n",
      " max_pooling2d_1 (MaxPooling  (None, 14, 14, 32)       0         \n",
      " 2D)                                                             \n",
      "                                                                 \n",
      " flatten (Flatten)           (None, 6272)              0         \n",
      "                                                                 \n",
      " dense (Dense)               (None, 32)                200736    \n",
      "                                                                 \n",
      " dense_1 (Dense)             (None, 6)                 198       \n",
      "                                                                 \n",
      "=================================================================\n",
      "Total params: 211,078\n",
      "Trainable params: 211,078\n",
      "Non-trainable params: 0\n",
      "_________________________________________________________________\n"
     ]
    }
   ],
   "source": [
    "model.summary()"
   ]
  },
  {
   "cell_type": "code",
   "execution_count": 14,
   "id": "3c0a6619",
   "metadata": {},
   "outputs": [],
   "source": [
    "model.compile(optimizer='adam',loss='categorical_crossentropy',metrics=['accuracy'])"
   ]
  },
  {
   "cell_type": "code",
   "execution_count": 15,
   "id": "b42b18da",
   "metadata": {
    "scrolled": true
   },
   "outputs": [
    {
     "name": "stderr",
     "output_type": "stream",
     "text": [
      "C:\\Users\\PC\\AppData\\Local\\Temp\\ipykernel_13676\\2198711359.py:1: UserWarning: `Model.fit_generator` is deprecated and will be removed in a future version. Please use `Model.fit`, which supports generators.\n",
      "  model.fit_generator(generator=x_train,steps_per_epoch = len(x_train),epochs=10,validation_data=x_test,validation_steps = len(x_test))\n"
     ]
    },
    {
     "name": "stdout",
     "output_type": "stream",
     "text": [
      "Epoch 1/10\n",
      "480/480 [==============================] - 53s 110ms/step - loss: 1.4016 - accuracy: 0.4920 - val_loss: 1.0439 - val_accuracy: 0.5604\n",
      "Epoch 2/10\n",
      "480/480 [==============================] - 56s 117ms/step - loss: 0.3623 - accuracy: 0.8889 - val_loss: 0.4453 - val_accuracy: 0.8656\n",
      "Epoch 3/10\n",
      "480/480 [==============================] - 57s 119ms/step - loss: 0.2262 - accuracy: 0.9342 - val_loss: 0.3551 - val_accuracy: 0.9058\n",
      "Epoch 4/10\n",
      "480/480 [==============================] - 60s 125ms/step - loss: 0.1934 - accuracy: 0.9425 - val_loss: 0.3536 - val_accuracy: 0.8949\n",
      "Epoch 5/10\n",
      "480/480 [==============================] - 60s 125ms/step - loss: 0.1618 - accuracy: 0.9494 - val_loss: 0.3016 - val_accuracy: 0.9257\n",
      "Epoch 6/10\n",
      "480/480 [==============================] - 61s 127ms/step - loss: 0.1489 - accuracy: 0.9544 - val_loss: 0.3184 - val_accuracy: 0.9270\n",
      "Epoch 7/10\n",
      "480/480 [==============================] - 67s 139ms/step - loss: 0.1362 - accuracy: 0.9594 - val_loss: 0.2874 - val_accuracy: 0.9358\n",
      "Epoch 8/10\n",
      "480/480 [==============================] - 62s 129ms/step - loss: 0.1168 - accuracy: 0.9636 - val_loss: 0.3271 - val_accuracy: 0.9121\n",
      "Epoch 9/10\n",
      "480/480 [==============================] - 64s 132ms/step - loss: 0.1082 - accuracy: 0.9677 - val_loss: 0.3188 - val_accuracy: 0.9172\n",
      "Epoch 10/10\n",
      "480/480 [==============================] - 58s 120ms/step - loss: 0.1047 - accuracy: 0.9686 - val_loss: 0.2705 - val_accuracy: 0.9366\n"
     ]
    },
    {
     "data": {
      "text/plain": [
       "<keras.callbacks.History at 0x187fbcc6340>"
      ]
     },
     "execution_count": 15,
     "metadata": {},
     "output_type": "execute_result"
    }
   ],
   "source": [
    "model.fit_generator(generator=x_train,steps_per_epoch = len(x_train),epochs=10,validation_data=x_test,validation_steps = len(x_test))"
   ]
  },
  {
   "cell_type": "code",
   "execution_count": 16,
   "id": "d1c5f491",
   "metadata": {},
   "outputs": [],
   "source": [
    "model.save('ECG.h5')"
   ]
  },
  {
   "cell_type": "code",
   "execution_count": 17,
   "id": "38ac4bf3",
   "metadata": {},
   "outputs": [],
   "source": [
    "from tensorflow.keras.models import load_model\n",
    "from keras.preprocessing import image\n",
    "import keras\n",
    "model=load_model(\"ECG.h5\")"
   ]
  },
  {
   "cell_type": "code",
   "execution_count": 18,
   "id": "91654da7",
   "metadata": {},
   "outputs": [
    {
     "name": "stdout",
     "output_type": "stream",
     "text": [
      "1/1 [==============================] - 0s 102ms/step\n"
     ]
    }
   ],
   "source": [
    "img = keras.utils.load_img(r\"C:\\Users\\PC\\Desktop\\IBM\\data\\test\\Normal\\fig_2113.png\",target_size=(64,64))\n",
    "x = tensorflow.keras.utils.img_to_array(img)\n",
    "x = np.expand_dims(x,axis = 0)\n",
    "pred = np.argmax(model.predict(x),axis=1)"
   ]
  },
  {
   "cell_type": "code",
   "execution_count": 19,
   "id": "1889d70b",
   "metadata": {
    "scrolled": false
   },
   "outputs": [
    {
     "data": {
      "text/plain": [
       "'Normal'"
      ]
     },
     "execution_count": 19,
     "metadata": {},
     "output_type": "execute_result"
    }
   ],
   "source": [
    "index=['Left Bundle Branch Block','Normal','Premature Atrial Contraction','Premature Ventricular Contraction','Right Bundle Branch Block','Ventricular Fibrillation']\n",
    "result=str(index[pred[0]])\n",
    "result"
   ]
  },
  {
   "cell_type": "code",
   "execution_count": 20,
   "id": "dbba9120",
   "metadata": {},
   "outputs": [
    {
     "data": {
      "text/plain": [
       "array([1], dtype=int64)"
      ]
     },
     "execution_count": 20,
     "metadata": {},
     "output_type": "execute_result"
    }
   ],
   "source": [
    "pred"
   ]
  },
  {
   "cell_type": "code",
   "execution_count": null,
   "id": "88f74e10",
   "metadata": {},
   "outputs": [],
   "source": []
  }
 ],
 "metadata": {
  "kernelspec": {
   "display_name": "Python 3.9.13 ('base')",
   "language": "python",
   "name": "python3"
  },
  "language_info": {
   "codemirror_mode": {
    "name": "ipython",
    "version": 3
   },
   "file_extension": ".py",
   "mimetype": "text/x-python",
   "name": "python",
   "nbconvert_exporter": "python",
   "pygments_lexer": "ipython3",
   "version": "3.9.13"
  },
  "vscode": {
   "interpreter": {
    "hash": "1cca9558bc5ad879ec93cc030b157d75f18267527c60932cecaace349eef54dd"
   }
  }
 },
 "nbformat": 4,
 "nbformat_minor": 5
}
