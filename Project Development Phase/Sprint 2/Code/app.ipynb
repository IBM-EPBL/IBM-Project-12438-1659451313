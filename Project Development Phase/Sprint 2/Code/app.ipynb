{
 "cells": [
  {
   "cell_type": "code",
   "execution_count": 1,
   "id": "234eef1f",
   "metadata": {},
   "outputs": [],
   "source": [
    "import requests\n",
    "from tensorflow.keras.preprocessing import image\n",
    "from tensorflow.keras.models import load_model\n",
    "import numpy as np\n",
    "import pandas as pd\n",
    "import tensorflow as tf\n",
    "import os\n",
    "from werkzeug.utils import secure_filename\n",
    "from tensorflow.python.keras.backend import set_session\n",
    "from flask import Flask, render_template, redirect, url_for, request"
   ]
  },
  {
   "cell_type": "code",
   "execution_count": 2,
   "id": "2806a18e",
   "metadata": {},
   "outputs": [],
   "source": [
    "app = Flask(__name__)\n",
    "model=load_model('ECG.h5')"
   ]
  },
  {
   "cell_type": "code",
   "execution_count": 3,
   "id": "97535886",
   "metadata": {},
   "outputs": [],
   "source": [
    "@app.route('/')\n",
    "def about():\n",
    "    return render_template('about.html')\n"
   ]
  },
  {
   "cell_type": "code",
   "execution_count": 4,
   "id": "3043d689",
   "metadata": {},
   "outputs": [],
   "source": [
    "@app.route('/about')\n",
    "def home():\n",
    "    return render_template('about.html')"
   ]
  },
  {
   "cell_type": "code",
   "execution_count": 5,
   "id": "42fb2a36",
   "metadata": {},
   "outputs": [],
   "source": [
    "@app.route('/info')\n",
    "def information():\n",
    "    return render_template('info.html')"
   ]
  },
  {
   "cell_type": "code",
   "execution_count": 6,
   "id": "22d573c6",
   "metadata": {},
   "outputs": [],
   "source": [
    "@app.route('/index')\n",
    "def test():\n",
    "    return render_template('index.html')"
   ]
  },
  {
   "cell_type": "code",
   "execution_count": 7,
   "id": "b8ae5a36",
   "metadata": {},
   "outputs": [],
   "source": [
    "@app.route(\"/predict\", methods=[\"GET\", \"POST\"]) #route for our prediction \n",
    "def upload():\n",
    "    if request.method== 'POST':\n",
    "        f=request.files['image'] #requesting the file \n",
    "        basepath=os.path.dirname(__file__)#storing the file directory\n",
    "        filepath=os.path.join(basepath, 'uploads',f.filename) #storing the file in uploads folder\n",
    "        f.save(filepath) #saving the file\n",
    "\n",
    "        img=image.load_img(filepath, target_size=(64,64)) #load and reshaping the image \n",
    "        x=image.img_to_array(img)#converting image to array \n",
    "        x=np.expand_dims(x, axis=0) #changing the dimensions of the image\n",
    "        pred=model.predict_classes(x) #predicting classes \n",
    "        print(\"prediction\", pred) #printing the prediction\n",
    "        index=['Left Bundle Branch Block', 'Normal', 'Premature Atrial Contraction', 'Premature Ventricular Contractions', 'Right Bundle Branch Block', 'Ventricular Fibrillation'] \n",
    "        result=str(index[pred[0]])\n",
    "        return result "
   ]
  },
  {
   "cell_type": "code",
   "execution_count": null,
   "id": "0571a579",
   "metadata": {},
   "outputs": [
    {
     "name": "stdout",
     "output_type": "stream",
     "text": [
      " * Serving Flask app '__main__'\n",
      " * Debug mode: off\n"
     ]
    },
    {
     "name": "stderr",
     "output_type": "stream",
     "text": [
      "WARNING: This is a development server. Do not use it in a production deployment. Use a production WSGI server instead.\n",
      " * Running on http://127.0.0.1:5000\n",
      "Press CTRL+C to quit\n"
     ]
    }
   ],
   "source": [
    "if __name__==\"__main__\":\n",
    "    app.run(debug=False)"
   ]
  },
  {
   "cell_type": "code",
   "execution_count": null,
   "id": "fc09c13f",
   "metadata": {},
   "outputs": [],
   "source": [
    "pred\n"
   ]
  },
  {
   "cell_type": "code",
   "execution_count": null,
   "id": "bd06a05b",
   "metadata": {},
   "outputs": [],
   "source": []
  }
 ],
 "metadata": {
  "kernelspec": {
   "display_name": "Python 3 (ipykernel)",
   "language": "python",
   "name": "python3"
  },
  "language_info": {
   "codemirror_mode": {
    "name": "ipython",
    "version": 3
   },
   "file_extension": ".py",
   "mimetype": "text/x-python",
   "name": "python",
   "nbconvert_exporter": "python",
   "pygments_lexer": "ipython3",
   "version": "3.9.13"
  }
 },
 "nbformat": 4,
 "nbformat_minor": 5
}
